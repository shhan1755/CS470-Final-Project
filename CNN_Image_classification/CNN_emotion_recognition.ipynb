{
  "nbformat": 4,
  "nbformat_minor": 0,
  "metadata": {
    "colab": {
      "name": "CNN_emotion_recognition.ipynb",
      "provenance": [],
      "collapsed_sections": [],
      "toc_visible": true
    },
    "kernelspec": {
      "name": "python3",
      "display_name": "Python 3"
    },
    "accelerator": "GPU"
  },
  "cells": [
    {
      "cell_type": "markdown",
      "metadata": {
        "id": "MXCrWl85spTB",
        "colab_type": "text"
      },
      "source": [
        "#Step 0 - Gdrive mount & Import Libararies"
      ]
    },
    {
      "cell_type": "code",
      "metadata": {
        "id": "68esXIebrT9e",
        "colab_type": "code",
        "outputId": "52326083-ddb5-44b5-9c92-61d61e5ab7bf",
        "colab": {
          "base_uri": "https://localhost:8080/",
          "height": 127
        }
      },
      "source": [
        "from google.colab import drive\n",
        "\n",
        "drive.mount('/gdrive')\n",
        "gdrive_root = '/gdrive/My Drive'\n",
        "data_dir = gdrive_root+'/ai_emotion'\n",
        "#data_dir = '.'"
      ],
      "execution_count": 1,
      "outputs": [
        {
          "output_type": "stream",
          "text": [
            "Go to this URL in a browser: https://accounts.google.com/o/oauth2/auth?client_id=947318989803-6bn6qk8qdgf4n4g3pfee6491hc0brc4i.apps.googleusercontent.com&redirect_uri=urn%3aietf%3awg%3aoauth%3a2.0%3aoob&response_type=code&scope=email%20https%3a%2f%2fwww.googleapis.com%2fauth%2fdocs.test%20https%3a%2f%2fwww.googleapis.com%2fauth%2fdrive%20https%3a%2f%2fwww.googleapis.com%2fauth%2fdrive.photos.readonly%20https%3a%2f%2fwww.googleapis.com%2fauth%2fpeopleapi.readonly\n",
            "\n",
            "Enter your authorization code:\n",
            "··········\n",
            "Mounted at /gdrive\n"
          ],
          "name": "stdout"
        }
      ]
    },
    {
      "cell_type": "code",
      "metadata": {
        "id": "tdELu-Izr_Oe",
        "colab_type": "code",
        "outputId": "09efcb9c-f805-4b26-8486-e1bcc7de2342",
        "colab": {
          "base_uri": "https://localhost:8080/",
          "height": 100
        }
      },
      "source": [
        "import os\n",
        "import torch\n",
        "import torch.optim as optim\n",
        "import torch.nn as nn\n",
        "import torch.nn.functional as F\n",
        "import pandas as pd\n",
        "import numpy as np\n",
        "import cv2\n",
        "\n",
        "from PIL import Image\n",
        "import matplotlib.pyplot as plt\n",
        "from torch.utils.data import Dataset, DataLoader\n",
        "from skimage import io, transform\n",
        "\n",
        "import torchvision\n",
        "from torchvision import transforms, utils, datasets\n",
        "\n",
        "from sklearn.metrics import roc_curve, auc\n",
        "from sklearn.preprocessing import label_binarize\n",
        "\n",
        "!pip install -U tensorboardcolab\n",
        "from tensorboardcolab import TensorBoardColab\n",
        "\n",
        "torch.manual_seed(470)\n",
        "torch.cuda.manual_seed(470)\n",
        "\n",
        "device = torch.device(\"cuda\" if torch.cuda.is_available() else \"cpu\")"
      ],
      "execution_count": 2,
      "outputs": [
        {
          "output_type": "stream",
          "text": [
            "Requirement already up-to-date: tensorboardcolab in /usr/local/lib/python3.6/dist-packages (0.0.22)\n"
          ],
          "name": "stdout"
        },
        {
          "output_type": "display_data",
          "data": {
            "text/html": [
              "<p style=\"color: red;\">\n",
              "The default version of TensorFlow in Colab will soon switch to TensorFlow 2.x.<br>\n",
              "We recommend you <a href=\"https://www.tensorflow.org/guide/migrate\" target=\"_blank\">upgrade</a> now \n",
              "or ensure your notebook will continue to use TensorFlow 1.x via the <code>%tensorflow_version 1.x</code> magic:\n",
              "<a href=\"https://colab.research.google.com/notebooks/tensorflow_version.ipynb\" target=\"_blank\">more info</a>.</p>\n"
            ],
            "text/plain": [
              "<IPython.core.display.HTML object>"
            ]
          },
          "metadata": {
            "tags": []
          }
        },
        {
          "output_type": "stream",
          "text": [
            "Using TensorFlow backend.\n"
          ],
          "name": "stderr"
        }
      ]
    },
    {
      "cell_type": "markdown",
      "metadata": {
        "id": "7fEd2nHDsvGW",
        "colab_type": "text"
      },
      "source": [
        "#Step 1 - data file load"
      ]
    },
    {
      "cell_type": "markdown",
      "metadata": {
        "id": "kqMzewJ-dmZr",
        "colab_type": "text"
      },
      "source": [
        "##1.1 - Dataset class construction"
      ]
    },
    {
      "cell_type": "markdown",
      "metadata": {
        "id": "trm7myHPdoDc",
        "colab_type": "text"
      },
      "source": [
        "* Input : **csv_file** - path to csv_file (train, validation, test), **root_dir** - path to save image, **transform** - preprocess\n",
        "* reference: https://blog.naver.com/PostView.nhn?blogId=keum_zz6&logNo=221610967175&parentCategoryNo=&categoryNo=15&viewDate=&isShowPopularPosts=true&from=search\n",
        "\n",
        "* data: http://pics.psych.stir.ac.uk/2D_face_sets.htm"
      ]
    },
    {
      "cell_type": "code",
      "metadata": {
        "id": "5hOgNbggsnON",
        "colab_type": "code",
        "colab": {}
      },
      "source": [
        "class EmotionDataset(Dataset): #Dataset class that load data from csv file\n",
        "    def __init__(self, csv_file, transform=None):\n",
        "        self.transform = transform\n",
        "        self.faces, self.emotions = self.load_fer2013(csv_file) # load pixel matrixs & labels form csv file\n",
        "\n",
        "    def __len__(self):\n",
        "        return self.emotions.shape[0]\n",
        "\n",
        "    def __getitem__(self, idx):\n",
        "        label_list = self.emotions[idx].tolist() \n",
        "        label = label_list.index(1) # load label\n",
        "        image = self.faces[idx] # load image numpy matrix\n",
        "        image = np.transpose(image, (2, 0, 1)) \n",
        "        image = image.squeeze(0) # resize the dimension of image\n",
        "        pil_img = Image.fromarray(image) # convert PIL image from numpy array \n",
        "        pil_img = pil_img.convert('L') # convert gray scale image\n",
        "        if self.transform:\n",
        "            image = self.transform(pil_img) # additional preprocess\n",
        "        image = image.to(device, torch.float) \n",
        "        return image, label\n",
        "\n",
        "    def load_fer2013(self, dataset_path):\n",
        "        image_size=(48,48)\n",
        "        data = pd.read_csv(dataset_path)\n",
        "        pixels = data['pixels'].tolist()\n",
        "        width, height = 48, 48\n",
        "        faces = []\n",
        "        for pixel_sequence in pixels:\n",
        "            face = [int(pixel) for pixel in pixel_sequence.split(' ')]\n",
        "            face = np.asarray(face).reshape(width, height)\n",
        "            face = cv2.resize(face.astype('uint8'),image_size)\n",
        "            faces.append(face.astype('float32'))\n",
        "        faces = np.asarray(faces)\n",
        "        faces = np.expand_dims(faces, -1)\n",
        "        emotions = pd.get_dummies(data['emotion']).as_matrix()\n",
        "        return faces, emotions"
      ],
      "execution_count": 0,
      "outputs": []
    },
    {
      "cell_type": "code",
      "metadata": {
        "id": "J0VNxf2wpfTF",
        "colab_type": "code",
        "colab": {}
      },
      "source": [
        "def imshow(tensor): \n",
        "  unloader = transforms.ToPILImage()\n",
        "  image = tensor.cpu().clone()\n",
        "  image = image.squeeze(0)\n",
        "  image = unloader(image)\n",
        "  plt.imshow(image)\n",
        "  plt.pause(0.001)"
      ],
      "execution_count": 0,
      "outputs": []
    },
    {
      "cell_type": "markdown",
      "metadata": {
        "id": "xMoKA-MveKlT",
        "colab_type": "text"
      },
      "source": [
        "##1.2 - Preprocess definition"
      ]
    },
    {
      "cell_type": "markdown",
      "metadata": {
        "id": "AZULn11IeQZf",
        "colab_type": "text"
      },
      "source": [
        "* image size = 224 x 224\n",
        "* center crop & tensor"
      ]
    },
    {
      "cell_type": "code",
      "metadata": {
        "id": "VshzRPt7VaXr",
        "colab_type": "code",
        "colab": {}
      },
      "source": [
        "imsize = 48 \n",
        "preprocess = transforms.Compose([\n",
        "  transforms.Resize(imsize),            # fixed size for both content and style images\n",
        "  transforms.CenterCrop(imsize),        # crops the given PIL Image at the center.\n",
        "  transforms.ToTensor(),                # range between 0 and 1\n",
        "])"
      ],
      "execution_count": 0,
      "outputs": []
    },
    {
      "cell_type": "markdown",
      "metadata": {
        "id": "Kc3V24Ioej6l",
        "colab_type": "text"
      },
      "source": [
        "##1.3 load dataset"
      ]
    },
    {
      "cell_type": "code",
      "metadata": {
        "id": "l_mNvJaIHvj-",
        "colab_type": "code",
        "outputId": "89b2a970-a0ec-4e2d-bc13-b5ee69edb33f",
        "colab": {
          "base_uri": "https://localhost:8080/",
          "height": 625
        }
      },
      "source": [
        "trainset = EmotionDataset(csv_file=data_dir+'/new_train.csv', transform=preprocess) #load the train set\n",
        "validset = EmotionDataset(csv_file=data_dir+'/new_valid.csv', transform=preprocess) #load the validation set\n",
        "testset = EmotionDataset(csv_file=data_dir+'/test.csv', transform=preprocess) #load test set\n",
        "\n",
        "emotion = {0: 'Angry', 1: 'Disgust', 2: 'Fear', 3: 'Happy', 4: 'Sad', 5: 'Surprise', 6: 'Neutral'} # dictionary of emotion\n",
        "\n",
        "print('len(train): %d, len(valid): %d, len(test): %d' %(len(trainset), len(validset), len(testset)))\n",
        "\n",
        "## example image show ##\n",
        "fig = plt.figure()\n",
        "j = 0\n",
        "for i in range(len(trainset)):\n",
        "    img, label = trainset[i]\n",
        "    print(i, img.shape, emotion[label])\n",
        "\n",
        "    ax = plt.subplot(1, 4, j + 1)\n",
        "    plt.tight_layout()\n",
        "    ax.set_title('Sample #{}'.format(i))\n",
        "    imshow(img)\n",
        "    ax.axis('off')\n",
        "\n",
        "    if j == 3:\n",
        "        plt.show()\n",
        "        break\n",
        "    j += 1"
      ],
      "execution_count": 6,
      "outputs": [
        {
          "output_type": "stream",
          "text": [
            "/usr/local/lib/python3.6/dist-packages/ipykernel_launcher.py:35: FutureWarning: Method .as_matrix will be removed in a future version. Use .values instead.\n"
          ],
          "name": "stderr"
        },
        {
          "output_type": "stream",
          "text": [
            "len(train): 29103, len(valid): 3653, len(test): 3589\n",
            "0 torch.Size([1, 48, 48]) Neutral\n"
          ],
          "name": "stdout"
        },
        {
          "output_type": "display_data",
          "data": {
            "image/png": "[encoded data removed]",
            "text/plain": [
              "<Figure size 432x288 with 1 Axes>"
            ]
          },
          "metadata": {
            "tags": []
          }
        },
        {
          "output_type": "stream",
          "text": [
            "1 torch.Size([1, 48, 48]) Fear\n"
          ],
          "name": "stdout"
        },
        {
          "output_type": "display_data",
          "data": {
            "image/png": "[encoded data removed]",
            "text/plain": [
              "<Figure size 432x288 with 1 Axes>"
            ]
          },
          "metadata": {
            "tags": []
          }
        },
        {
          "output_type": "stream",
          "text": [
            "2 torch.Size([1, 48, 48]) Surprise\n"
          ],
          "name": "stdout"
        },
        {
          "output_type": "display_data",
          "data": {
            "image/png": "[encoded data removed]",
            "text/plain": [
              "<Figure size 432x288 with 1 Axes>"
            ]
          },
          "metadata": {
            "tags": []
          }
        },
        {
          "output_type": "stream",
          "text": [
            "3 torch.Size([1, 48, 48]) Happy\n"
          ],
          "name": "stdout"
        },
        {
          "output_type": "display_data",
          "data": {
            "image/png": "[encoded data removed]",
            "text/plain": [
              "<Figure size 432x288 with 1 Axes>"
            ]
          },
          "metadata": {
            "tags": []
          }
        }
      ]
    },
    {
      "cell_type": "markdown",
      "metadata": {
        "id": "FfsS9HaKtMr0",
        "colab_type": "text"
      },
      "source": [
        "#Step 2 - Separate training & test set"
      ]
    },
    {
      "cell_type": "code",
      "metadata": {
        "id": "UqrH2WK-foCv",
        "colab_type": "code",
        "colab": {}
      },
      "source": [
        "batch_size = 32\n",
        "train_loader = DataLoader(trainset, batch_size=batch_size, shuffle=True, num_workers=0)\n",
        "valid_loader = DataLoader(validset, batch_size=batch_size, shuffle=False, num_workers=0)\n",
        "test_loader = DataLoader(testset, batch_size=len(testset), shuffle=False, num_workers=0)"
      ],
      "execution_count": 0,
      "outputs": []
    },
    {
      "cell_type": "markdown",
      "metadata": {
        "id": "TsoN4SFMtYG0",
        "colab_type": "text"
      },
      "source": [
        "#Step 3 - Model construction"
      ]
    },
    {
      "cell_type": "markdown",
      "metadata": {
        "id": "I2x4YBHCuLWd",
        "colab_type": "text"
      },
      "source": [
        "* Using VGG19\n",
        "* Loss = cross entropy & Optimizer = Adam\n",
        "* Reference 1): https://poddeeplearning.readthedocs.io/ko/latest/CNN/VGG19%20+%20GAP%20+%20CAM/\n",
        "* Reference 2): https://medium.com/@inmoonlight/pytorch%EB%A1%9C-%EB%94%A5%EB%9F%AC%EB%8B%9D%ED%95%98%EA%B8%B0-cnn-62a9326111ae\n",
        "\n"
      ]
    },
    {
      "cell_type": "markdown",
      "metadata": {
        "id": "bkx8h7XPuGG_",
        "colab_type": "text"
      },
      "source": [
        "##3.1 - Model class"
      ]
    },
    {
      "cell_type": "code",
      "metadata": {
        "id": "seaaQTFU0iOO",
        "colab_type": "code",
        "colab": {}
      },
      "source": [
        "class VGGNet(nn.Module):\n",
        "    def __init__(self):\n",
        "        super(VGGNet, self).__init__()\n",
        "        self.conv = nn.Sequential(\n",
        "            nn.Conv2d(1, 64, 3, padding=1),nn.LeakyReLU(0.2),\n",
        "            nn.Conv2d(64, 64, 3, padding=1),nn.LeakyReLU(0.2),\n",
        "            nn.MaxPool2d(2, 2),\n",
        "\n",
        "            nn.Conv2d(64, 128, 3, padding=1),nn.LeakyReLU(0.2),\n",
        "            nn.Conv2d(128, 128, 3, padding=1),nn.LeakyReLU(0.2),\n",
        "            nn.BatchNorm2d(128),\n",
        "            nn.MaxPool2d(2, 1),\n",
        "            nn.MaxPool2d(2, 1),\n",
        "            nn.Dropout(0.5),\n",
        "\n",
        "            nn.Conv2d(128, 256, 3, padding=1),nn.LeakyReLU(0.2),\n",
        "            nn.Conv2d(256, 256, 3, padding=1),nn.LeakyReLU(0.2),\n",
        "            nn.Conv2d(256, 256, 3, padding=1),nn.LeakyReLU(0.2),\n",
        "            nn.MaxPool2d(2, 2),\n",
        "\n",
        "            nn.Conv2d(256, 512, 3, padding=1),nn.LeakyReLU(0.2),\n",
        "            nn.Conv2d(512, 512, 3, padding=1),nn.LeakyReLU(0.2),\n",
        "            nn.Dropout(0.2),\n",
        "            nn.BatchNorm2d(512),\n",
        "        )\n",
        "\n",
        "        #512 7 4\n",
        "        self.avg_pool = nn.AvgPool2d(7)\n",
        "\n",
        "        #512 8 1\n",
        "        self.classifier = nn.Linear(512, 7)\n",
        "        self.softmax = nn.Softmax()\n",
        "\n",
        "    def forward(self, x):\n",
        "        features = self.conv(x)\n",
        "        x = self.avg_pool(features)\n",
        "        x = x.view(features.size(0), -1)\n",
        "        x = self.classifier(x)\n",
        "        #x = self.softmax(x)\n",
        "        return x"
      ],
      "execution_count": 0,
      "outputs": []
    },
    {
      "cell_type": "markdown",
      "metadata": {
        "id": "GEUhtiXFuM_K",
        "colab_type": "text"
      },
      "source": [
        "##3.2 - Model load"
      ]
    },
    {
      "cell_type": "code",
      "metadata": {
        "id": "YBMYlinzuXDv",
        "colab_type": "code",
        "colab": {}
      },
      "source": [
        "model = VGGNet()\n",
        "model = model.to(device)\n",
        "learning_rate = 0.008\n",
        "optimizer = optim.Adam(model.parameters(),lr=learning_rate) # using Adam"
      ],
      "execution_count": 0,
      "outputs": []
    },
    {
      "cell_type": "markdown",
      "metadata": {
        "id": "H2PetUQOtdJV",
        "colab_type": "text"
      },
      "source": [
        "#Step 4 - Model training"
      ]
    },
    {
      "cell_type": "markdown",
      "metadata": {
        "id": "hDB9THyRkMeT",
        "colab_type": "text"
      },
      "source": [
        "* reference 1): https://hoya012.github.io/blog/DenseNet-Tutorial-2/\n",
        "* reference 2): https://github.com/developer0hye/Custom-CNN-based-Image-Classification-in-PyTorch"
      ]
    },
    {
      "cell_type": "markdown",
      "metadata": {
        "id": "kM3xvCyapEUK",
        "colab_type": "text"
      },
      "source": [
        "##4.1 - Load pre-trained weights"
      ]
    },
    {
      "cell_type": "code",
      "metadata": {
        "id": "0du-VJ03oRGG",
        "colab_type": "code",
        "outputId": "79b3b9c9-625a-4326-aea3-0ee6c9c3442d",
        "colab": {
          "base_uri": "https://localhost:8080/",
          "height": 53
        }
      },
      "source": [
        "ckpt_dir = os.path.join(data_dir, 'checkpoints') # directory of checkpoint\n",
        "if not os.path.exists(ckpt_dir):\n",
        "  os.makedirs(ckpt_dir)\n",
        "\n",
        "best_acc = 0.\n",
        "\n",
        "ckpt_path = os.path.join(ckpt_dir, 'lastest.pt')\n",
        "if os.path.exists(ckpt_path):\n",
        "  ckpt = torch.load(ckpt_path)\n",
        "  try:\n",
        "    model.load_state_dict(ckpt['model'])\n",
        "    optimizer.load_state_dict(ckpt['optimizer'])\n",
        "    best_acc = ckpt['best_acc']\n",
        "  except RuntimeError as e:\n",
        "      print('wrong checkpoint')\n",
        "  else:    \n",
        "    print('checkpoint is loaded !')\n",
        "    print('current best accuracy : %.2f' % best_acc)"
      ],
      "execution_count": 10,
      "outputs": [
        {
          "output_type": "stream",
          "text": [
            "checkpoint is loaded !\n",
            "current best accuracy : 0.66\n"
          ],
          "name": "stdout"
        }
      ]
    },
    {
      "cell_type": "markdown",
      "metadata": {
        "id": "rXPVKn0ZpOAi",
        "colab_type": "text"
      },
      "source": [
        "##4.2 - Set state & epoch"
      ]
    },
    {
      "cell_type": "code",
      "metadata": {
        "id": "ToChjmfGiNPC",
        "colab_type": "code",
        "outputId": "2810e3c4-8be4-4be3-ab37-17b9b111694e",
        "colab": {
          "base_uri": "https://localhost:8080/",
          "height": 71
        }
      },
      "source": [
        "training_process = False # ON & OFF switch of training process\n",
        "epochs = 20 # epoch\n",
        "tbc = TensorBoardColab()"
      ],
      "execution_count": 11,
      "outputs": [
        {
          "output_type": "stream",
          "text": [
            "Wait for 8 seconds...\n",
            "TensorBoard link:\n",
            "http://f606b28d.ngrok.io\n"
          ],
          "name": "stdout"
        }
      ]
    },
    {
      "cell_type": "markdown",
      "metadata": {
        "id": "ejbjR1kdpU4T",
        "colab_type": "text"
      },
      "source": [
        "##4.3 - Training process"
      ]
    },
    {
      "cell_type": "markdown",
      "metadata": {
        "id": "izk8-sphpYIJ",
        "colab_type": "text"
      },
      "source": [
        "* Training from train_loader\n",
        "* Validation check from valid_loader\n",
        "* If valid_acc > best_acc: save new checkpoint"
      ]
    },
    {
      "cell_type": "markdown",
      "metadata": {
        "id": "99gNzIg3t02M",
        "colab_type": "text"
      },
      "source": [
        "###4.3.1 - Training function"
      ]
    },
    {
      "cell_type": "code",
      "metadata": {
        "id": "QxheeXq8h2ph",
        "colab_type": "code",
        "colab": {}
      },
      "source": [
        "def train_model(model, optimizer, train_loader, valid_loader, ckpt_path, tbc, epochs=20):\n",
        "    best_acc = 0.0\n",
        "    if os.path.exists(ckpt_path): # load the checkpoint data\n",
        "        ckpt = torch.load(ckpt_path)\n",
        "        best_acc = ckpt['best_acc']\n",
        "    it = 0\n",
        "    for epoch in range(epochs):\n",
        "        model.train() # change to training mode\n",
        "        batch = 0\n",
        "        for inputs, labels in train_loader:\n",
        "            inputs, labels = inputs.to(device), labels.to(device)\n",
        "            it += 1\n",
        "            batch += 1\n",
        "            outputs = model(inputs) # predicted datas\n",
        "            loss = F.cross_entropy(outputs, labels) # loss function == cross entropy\n",
        "            optimizer.zero_grad()\n",
        "            loss.backward() # backprop\n",
        "\n",
        "            optimizer.step()\n",
        "            acc = (outputs.argmax(dim=1) == labels).float().mean()\n",
        "            if batch % 50 == 0:\n",
        "                tbc.save_value('Loss', 'train_loss', it, loss.item())\n",
        "                print(\"epoch : %d, batch : %d, train_loss: %f, acc: %f\" %(epoch+1, batch, loss.item(), acc.item()))\n",
        "\n",
        "        # validation phase\n",
        "        if valid_loader: # task activation if there is validation set\n",
        "            n = 0.\n",
        "            valid_loss = 0.\n",
        "            valid_acc = 0.\n",
        "            model.eval() # change to evaluation mode\n",
        "            for valid_inputs, valid_labels in valid_loader:\n",
        "                valid_inputs, valid_labels = valid_inputs.to(device), valid_labels.to(device)\n",
        "                valid_outputs = model(valid_inputs)\n",
        "                valid_loss += F.cross_entropy(valid_outputs, valid_labels, reduction='sum').item() # loss calculation\n",
        "                valid_acc += (valid_outputs.argmax(dim=1) == valid_labels).float().sum().item() # accuracy calculation\n",
        "                n += valid_inputs.size(0)\n",
        "\n",
        "            valid_loss /= n\n",
        "            valid_acc /= n\n",
        "            tbc.save_value('Loss', 'valid_loss', it, valid_loss)\n",
        "            print('[epoch:{}, iteration:{}] valid_loss : {:.4f} valid accuracy : {:.4f}'.format(epoch+1, it, valid_loss, valid_acc)) \n",
        "\n",
        "            tbc.flush_line('train_loss')\n",
        "            tbc.flush_line('valid_loss')\n",
        "\n",
        "            # save checkpoint whenever there is improvement in performance\n",
        "            if valid_acc > best_acc:\n",
        "                best_acc = valid_acc\n",
        "                # Note: optimizer also has states ! don't forget to save them as well.\n",
        "                ckpt = {'model':model.state_dict(), # save model weight\n",
        "                        'optimizer':optimizer.state_dict(), \n",
        "                        'best_acc':best_acc}\n",
        "                torch.save(ckpt, ckpt_path)\n",
        "                print('checkpoint is saved !')\n",
        "            \n",
        "    tbc.close()\n",
        "    model.load_state_dict(ckpt['model'])\n",
        "    return model"
      ],
      "execution_count": 0,
      "outputs": []
    },
    {
      "cell_type": "markdown",
      "metadata": {
        "id": "POpVcVsGt8EO",
        "colab_type": "text"
      },
      "source": [
        "###4.3.2 - Model training"
      ]
    },
    {
      "cell_type": "code",
      "metadata": {
        "id": "rxrPT6ILkgZt",
        "colab_type": "code",
        "colab": {}
      },
      "source": [
        "if training_process: \n",
        "    model = train_model(model=model, optimizer=optimizer, train_loader=train_loader, valid_loader=valid_loader, ckpt_path=ckpt_path, tbc=tbc, epochs=20)"
      ],
      "execution_count": 0,
      "outputs": []
    },
    {
      "cell_type": "markdown",
      "metadata": {
        "id": "eerJiRNatiBd",
        "colab_type": "text"
      },
      "source": [
        "#Step 5 - Model evaluation"
      ]
    },
    {
      "cell_type": "markdown",
      "metadata": {
        "id": "jdxEg9_4tKIJ",
        "colab_type": "text"
      },
      "source": [
        "##5.1 - Accuracy test"
      ]
    },
    {
      "cell_type": "markdown",
      "metadata": {
        "id": "vgDVJvGfgiOA",
        "colab_type": "text"
      },
      "source": [
        "###5.1.1 - Overall accuracy"
      ]
    },
    {
      "cell_type": "code",
      "metadata": {
        "id": "k80IXhmRjNjb",
        "colab_type": "code",
        "colab": {}
      },
      "source": [
        "model.load_state_dict(ckpt['model']) # load weight on best accuracy\n",
        "model.eval() # change to evaluation mode\n",
        "\n",
        "if test_loader:\n",
        "    n, avg_loss, avg_acc = 0., 0., 0.\n",
        "\n",
        "    for test_inputs, test_labels in test_loader:\n",
        "        test_inputs, test_labels = test_inputs.to(device), test_labels.to(device)\n",
        "        test_outputs = model(test_inputs) \n",
        "        test_loss = F.cross_entropy(test_outputs, test_labels, reduction='sum').item() # calculate loss\n",
        "        test_pres = test_outputs.argmax(dim=1) # predicted data\n",
        "        test_acc = (test_pres == test_labels).float().sum().item() \n",
        "        avg_loss += test_loss # add each loss\n",
        "        avg_acc += test_acc # add each acc\n",
        "        n += test_inputs.size(0)\n",
        "\n",
        "    avg_loss /= n # avg. loss\n",
        "    avg_acc /= n # avg. acc\n",
        "    print('average loss of test : {:.4f} average accuracy of test : {:.4f}'.format(avg_loss, avg_acc)) "
      ],
      "execution_count": 0,
      "outputs": []
    },
    {
      "cell_type": "markdown",
      "metadata": {
        "id": "wFrANqzlgnry",
        "colab_type": "text"
      },
      "source": [
        "###5.1.2 - Accuracy of each class"
      ]
    },
    {
      "cell_type": "code",
      "metadata": {
        "id": "k4faNOmOX43a",
        "colab_type": "code",
        "colab": {}
      },
      "source": [
        "label_array, predict_array = test_labels.cpu().numpy(), test_pres.cpu().numpy()\n",
        "label_array, predict_array = label_binarize(label_array, [0,1,2,3,4,5,6]), label_binarize(predict_array, [0,1,2,3,4,5,6]) # binarize label\n",
        "\n",
        "for i in range(label_array.shape[1]):\n",
        "    for j in range(label_array.shape[0]):\n",
        "        if predict_array[j,i] != label_array[j,i]:\n",
        "            predict_array[j,i] = 0\n",
        "\n",
        "class_acc = [] # list containing accuray of each class\n",
        "for i in range(label_array.shape[1]):\n",
        "    class_acc.append(predict_array[:,i].sum()/label_array[:,i].sum()*100)\n",
        "\n",
        "print(class_acc)\n",
        "print(sum(class_acc)/len(class_acc))"
      ],
      "execution_count": 0,
      "outputs": []
    },
    {
      "cell_type": "markdown",
      "metadata": {
        "id": "uvS7Wjp2gsf5",
        "colab_type": "text"
      },
      "source": [
        "###5.1.3 - Result plot"
      ]
    },
    {
      "cell_type": "code",
      "metadata": {
        "id": "HxYMDctlcYjF",
        "colab_type": "code",
        "colab": {}
      },
      "source": [
        "emotion_list = list(emotion.values())\n",
        "emotion_list_avg = emotion_list + ['average']\n",
        "class_acc_avg = class_acc + [avg_acc]\n",
        "\n",
        "plt.figure()\n",
        "plt.bar(emotion_list_avg, class_acc_avg, color=(0.2, 0.4, 0.6, 0.6))\n",
        "plt.ylabel('Accuracy')\n",
        "plt.title('Accuracy of each class')\n",
        "plt.show()"
      ],
      "execution_count": 0,
      "outputs": []
    },
    {
      "cell_type": "markdown",
      "metadata": {
        "id": "8vSM8M2XRS-m",
        "colab_type": "text"
      },
      "source": [
        "##5.2 - ROC Curve & AUC score"
      ]
    },
    {
      "cell_type": "markdown",
      "metadata": {
        "id": "Q6SxHu_Ig-nt",
        "colab_type": "text"
      },
      "source": [
        "###5.2.1 - Calculate AUC score of ROC curve"
      ]
    },
    {
      "cell_type": "code",
      "metadata": {
        "id": "mlTEpoMbO7rx",
        "colab_type": "code",
        "colab": {}
      },
      "source": [
        "fpr = dict()\n",
        "tpr = dict()\n",
        "roc_auc = dict()\n",
        "label_array, predict_array = test_labels.cpu().numpy(), test_pres.cpu().numpy()\n",
        "label_array, predict_array = label_binarize(label_array, range(7)), label_binarize(predict_array, range(7))\n",
        "\n",
        "for i in range(7):\n",
        "    fpr[i], tpr[i], _ = roc_curve(label_array[:, i], predict_array[:, i])\n",
        "    roc_auc[i] = auc(fpr[i], tpr[i])"
      ],
      "execution_count": 0,
      "outputs": []
    },
    {
      "cell_type": "markdown",
      "metadata": {
        "id": "zTd33XljhE3e",
        "colab_type": "text"
      },
      "source": [
        "###5.2.2 - Draw the ROC curve"
      ]
    },
    {
      "cell_type": "code",
      "metadata": {
        "id": "5i8KynN2RhYf",
        "colab_type": "code",
        "colab": {}
      },
      "source": [
        "for i in range(7):\n",
        "    plt.figure()\n",
        "    plt.plot(fpr[i], tpr[i], label='ROC curve (area = %0.2f)' % roc_auc[i])\n",
        "    plt.plot([0, 1], [0, 1], 'k--')\n",
        "    plt.xlim([0.0, 1.0])\n",
        "    plt.ylim([0.0, 1.05])\n",
        "    plt.xlabel('False Positive Rate')\n",
        "    plt.ylabel('True Positive Rate')\n",
        "    plt.title('Emotion classificaion - ROC curve : %s' %(emotion[i]))\n",
        "    plt.legend(loc=\"lower right\")\n",
        "    plt.show()"
      ],
      "execution_count": 0,
      "outputs": []
    },
    {
      "cell_type": "markdown",
      "metadata": {
        "id": "0MusApNCtO-s",
        "colab_type": "text"
      },
      "source": [
        "##5.3 - Single random example test"
      ]
    },
    {
      "cell_type": "code",
      "metadata": {
        "id": "lHl3u-QOENKK",
        "colab_type": "code",
        "colab": {}
      },
      "source": [
        "img, label = testset[50]\n",
        "model.eval()\n",
        "test_prediction = F.softmax(model(img.unsqueeze(0).to(device))).argmax().item()\n",
        "print(test_prediction)"
      ],
      "execution_count": 0,
      "outputs": []
    },
    {
      "cell_type": "markdown",
      "metadata": {
        "id": "kVQByigegauM",
        "colab_type": "text"
      },
      "source": [
        "##5.4 - Save the result matrix"
      ]
    },
    {
      "cell_type": "code",
      "metadata": {
        "id": "8vl9l9r5gaZj",
        "colab_type": "code",
        "colab": {}
      },
      "source": [
        "emotion_str1 = ','.join(emotion_list_avg)\n",
        "emotion_str2 = ','.join(emotion_list)\n",
        "roc_list = list(roc_auc.values())\n",
        "class_str = ','.join(list(map(str, class_acc_avg)))\n",
        "\n",
        "tpr_list =[]\n",
        "fpr_list =[]\n",
        "\n",
        "for i in range(7):\n",
        "    tpr_list.append(tpr[i][1])\n",
        "    fpr_list.append(fpr[i][1])\n",
        "\n",
        "tpr_str = ','.join(list(map(str, tpr_list)))\n",
        "fpr_str = ','.join(list(map(str, fpr_list)))\n",
        "roc_str = ','.join(list(map(str, roc_list)))\n",
        "\n",
        "csv_file = open(data_dir+'/Emotion_result.csv', 'w')\n",
        "csv_file.write(emotion_str1+'\\n'+class_str+'\\n')\n",
        "csv_file.write('\\n')\n",
        "\n",
        "csv_file.write(emotion_str2+'\\n'+tpr_str+'\\n'+fpr_str+'\\n'+roc_str)\n",
        "csv_file.close()"
      ],
      "execution_count": 0,
      "outputs": []
    }
  ]
}